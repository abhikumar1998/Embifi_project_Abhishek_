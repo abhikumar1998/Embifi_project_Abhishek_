{
 "cells": [
  {
   "cell_type": "code",
   "execution_count": 8,
   "id": "98b25dfb",
   "metadata": {},
   "outputs": [],
   "source": [
    "import pandas as pd\n",
    "import openai"
   ]
  },
  {
   "cell_type": "code",
   "execution_count": 9,
   "id": "840e0d38",
   "metadata": {},
   "outputs": [],
   "source": [
    "qa_dataset = pd.read_csv('qa_dataset.csv')\n",
    "loan_dataset = pd.read_csv('loan_dataset.csv')"
   ]
  },
  {
   "cell_type": "code",
   "execution_count": 10,
   "id": "bb2a29c7",
   "metadata": {},
   "outputs": [],
   "source": [
    "openai.api_key = ''"
   ]
  },
  {
   "cell_type": "code",
   "execution_count": 11,
   "id": "77334c12",
   "metadata": {},
   "outputs": [],
   "source": [
    "def find_answer(question):\n",
    "    # Check if the question is in the QA dataset\n",
    "    answer_row = qa_dataset[qa_dataset['question'].str.lower() == question.lower()]\n",
    "    if not answer_row.empty:\n",
    "        return answer_row.iloc[0]['answer']\n",
    "    \n",
    "    # If the question is an integer, search in the loan dataset\n",
    "    if question.isdigit():\n",
    "        loan_row = loan_dataset[loan_dataset['application_id'] == int(question)]\n",
    "        if not loan_row.empty:\n",
    "            return f\"The loan amount for application ID {question} is {loan_row.iloc[0]['loan_amount']}.\"\n",
    "    \n",
    "    # If the question is outside the scope of the dataset\n",
    "    return \"This is outside the scope of my dataset.\""
   ]
  },
  {
   "cell_type": "code",
   "execution_count": 15,
   "id": "f03ce468",
   "metadata": {},
   "outputs": [],
   "source": [
    "def ask_openai(question):\n",
    "    try:\n",
    "        # If question is outside the datasets, consult OpenAI\n",
    "        response = openai.Completion.create(\n",
    "            engine=\"davinci\",\n",
    "            prompt=f\"Answer the question: {question}\",\n",
    "            max_tokens=50\n",
    "        )\n",
    "        return response.choices[0].text.strip()\n",
    "    except Exception as e:\n",
    "        return str(e)"
   ]
  },
  {
   "cell_type": "code",
   "execution_count": 16,
   "id": "90e50fa5",
   "metadata": {},
   "outputs": [
    {
     "name": "stdout",
     "output_type": "stream",
     "text": [
      "Ask a question: or type application number to know your loan amount  can i apply for loan\n",
      "The model `davinci` has been deprecated, learn more here: https://platform.openai.com/docs/deprecations\n"
     ]
    }
   ],
   "source": [
    "def main():\n",
    "    question = input(\"Ask a question: or type application number to know your loan amount  \")\n",
    "    answer = find_answer(question)\n",
    "    \n",
    "    if answer == \"This is outside the scope of my dataset.\":\n",
    "        # If the question is outside the scope, ask OpenAI\n",
    "        answer = ask_openai(question)\n",
    "    \n",
    "    print(answer)\n",
    "\n",
    "if __name__ == \"__main__\":\n",
    "    main()"
   ]
  },
  {
   "cell_type": "code",
   "execution_count": null,
   "id": "ebceb76e",
   "metadata": {},
   "outputs": [],
   "source": []
  },
  {
   "cell_type": "code",
   "execution_count": null,
   "id": "322921d8",
   "metadata": {},
   "outputs": [],
   "source": [
    "\n"
   ]
  },
  {
   "cell_type": "code",
   "execution_count": null,
   "id": "5bc80e7f",
   "metadata": {},
   "outputs": [],
   "source": []
  },
  {
   "cell_type": "code",
   "execution_count": null,
   "id": "8697f3db",
   "metadata": {},
   "outputs": [],
   "source": []
  },
  {
   "cell_type": "code",
   "execution_count": null,
   "id": "8f85cebd",
   "metadata": {},
   "outputs": [],
   "source": []
  }
 ],
 "metadata": {
  "kernelspec": {
   "display_name": "Python 3 (ipykernel)",
   "language": "python",
   "name": "python3"
  },
  "language_info": {
   "codemirror_mode": {
    "name": "ipython",
    "version": 3
   },
   "file_extension": ".py",
   "mimetype": "text/x-python",
   "name": "python",
   "nbconvert_exporter": "python",
   "pygments_lexer": "ipython3",
   "version": "3.9.7"
  }
 },
 "nbformat": 4,
 "nbformat_minor": 5
}
