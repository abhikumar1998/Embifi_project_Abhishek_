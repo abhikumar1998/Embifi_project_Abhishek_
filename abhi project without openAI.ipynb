{
 "cells": [
  {
   "cell_type": "code",
   "execution_count": 1,
   "id": "071d841f",
   "metadata": {},
   "outputs": [
    {
     "name": "stderr",
     "output_type": "stream",
     "text": [
      "C:\\Users\\Abhishek kumar\\anaconda3\\lib\\site-packages\\fuzzywuzzy\\fuzz.py:11: UserWarning: Using slow pure-python SequenceMatcher. Install python-Levenshtein to remove this warning\n",
      "  warnings.warn('Using slow pure-python SequenceMatcher. Install python-Levenshtein to remove this warning')\n"
     ]
    }
   ],
   "source": [
    "import pandas as pd\n",
    "from fuzzywuzzy import fuzz\n",
    "from fuzzywuzzy import process"
   ]
  },
  {
   "cell_type": "code",
   "execution_count": 2,
   "id": "2fc4900f",
   "metadata": {},
   "outputs": [],
   "source": [
    "qa_dataset = pd.read_csv('qa_dataset.csv')\n",
    "loan_dataset = pd.read_csv('loan_dataset.csv')"
   ]
  },
  {
   "cell_type": "code",
   "execution_count": 3,
   "id": "8e86ad30",
   "metadata": {},
   "outputs": [],
   "source": [
    "def find_best_match(question, dataset, column, threshold=80):\n",
    "    # Find the best match for the question in the specified column of the dataset\n",
    "    matches = process.extractOne(question, dataset[column], scorer=fuzz.ratio)\n",
    "    if matches and matches[1] >= threshold:\n",
    "        return matches[0]\n",
    "    return None"
   ]
  },
  {
   "cell_type": "code",
   "execution_count": null,
   "id": "7510f57e",
   "metadata": {},
   "outputs": [],
   "source": []
  },
  {
   "cell_type": "code",
   "execution_count": 4,
   "id": "18723cf7",
   "metadata": {},
   "outputs": [],
   "source": [
    "def find_answer(question):\n",
    "    # Check if the question matches in the QA dataset\n",
    "    best_match = find_best_match(question, qa_dataset, 'question')\n",
    "    if best_match:\n",
    "        answer_row = qa_dataset[qa_dataset['question'] == best_match]\n",
    "        return answer_row.iloc[0]['answer']\n",
    "    # If the question is an integer, search in the loan dataset\n",
    "    if question.isdigit():\n",
    "        loan_row = loan_dataset[loan_dataset['application_id'] == int(question)]\n",
    "        if not loan_row.empty:\n",
    "            return f\"The loan amount for application ID {question} is {loan_row.iloc[0]['loan_amount']}.\"\n",
    "    \n",
    "    # If the question is outside the scope of the dataset\n",
    "    return \"This is outside the scope of my dataset.\"\n"
   ]
  },
  {
   "cell_type": "code",
   "execution_count": 7,
   "id": "1f5828ae",
   "metadata": {},
   "outputs": [
    {
     "name": "stdout",
     "output_type": "stream",
     "text": [
      "Ask a question (or type 'exit' to quit): OR Type Application i.d to see loan amount 234\n",
      "The loan amount for application ID 234 is 50000.\n",
      "Ask a question (or type 'exit' to quit): OR Type Application i.d to see loan amount can i apply for loan\n",
      "Yes, you can apply for a loan online through our website.\n",
      "Ask a question (or type 'exit' to quit): OR Type Application i.d to see loan amount quit\n",
      "Goodbye!\n"
     ]
    }
   ],
   "source": [
    "def main():\n",
    "    while True:\n",
    "        question = input(\"Ask a question (or type 'exit' to quit): OR Type Application i.d to see loan amount \").strip()\n",
    "        if question.lower() in ['exit', 'quit']:\n",
    "            print(\"Goodbye!\")\n",
    "            break\n",
    "        \n",
    "        answer = find_answer(question)\n",
    "        print(answer)\n",
    "\n",
    "if __name__ == \"__main__\":\n",
    "    main()"
   ]
  },
  {
   "cell_type": "code",
   "execution_count": null,
   "id": "670dec79",
   "metadata": {},
   "outputs": [],
   "source": []
  },
  {
   "cell_type": "code",
   "execution_count": null,
   "id": "a7af7ea4",
   "metadata": {},
   "outputs": [],
   "source": []
  },
  {
   "cell_type": "code",
   "execution_count": null,
   "id": "9fe85273",
   "metadata": {},
   "outputs": [],
   "source": []
  },
  {
   "cell_type": "code",
   "execution_count": null,
   "id": "1efe52be",
   "metadata": {},
   "outputs": [],
   "source": []
  }
 ],
 "metadata": {
  "kernelspec": {
   "display_name": "Python 3 (ipykernel)",
   "language": "python",
   "name": "python3"
  },
  "language_info": {
   "codemirror_mode": {
    "name": "ipython",
    "version": 3
   },
   "file_extension": ".py",
   "mimetype": "text/x-python",
   "name": "python",
   "nbconvert_exporter": "python",
   "pygments_lexer": "ipython3",
   "version": "3.9.7"
  }
 },
 "nbformat": 4,
 "nbformat_minor": 5
}
